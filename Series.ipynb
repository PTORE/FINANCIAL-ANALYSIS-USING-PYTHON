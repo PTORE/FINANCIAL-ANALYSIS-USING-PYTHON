{
 "cells": [
  {
   "cell_type": "code",
   "execution_count": null,
   "id": "0e2b4ab6",
   "metadata": {},
   "outputs": [],
   "source": []
  },
  {
   "cell_type": "code",
   "execution_count": 2,
   "id": "3fdbcc88",
   "metadata": {},
   "outputs": [],
   "source": [
    "#Importing libraries\n",
    "\n",
    "import pandas as pd "
   ]
  },
  {
   "cell_type": "code",
   "execution_count": 4,
   "id": "400301d4",
   "metadata": {},
   "outputs": [],
   "source": [
    "#Importing the data from the csv file\n",
    "data = pd.read_csv(r\"C:\\Users\\ADORABELLA\\Documents\\GODWIN\\CAREER\\DATA ANALYST\\PORTFOLIO\\Rune Tutorials\\Financial Analysis\\AAPL.csv\", index_col=0, parse_dates=True)"
   ]
  },
  {
   "cell_type": "code",
   "execution_count": 5,
   "id": "3c8b678b",
   "metadata": {
    "scrolled": true
   },
   "outputs": [
    {
     "data": {
      "text/html": [
       "<div>\n",
       "<style scoped>\n",
       "    .dataframe tbody tr th:only-of-type {\n",
       "        vertical-align: middle;\n",
       "    }\n",
       "\n",
       "    .dataframe tbody tr th {\n",
       "        vertical-align: top;\n",
       "    }\n",
       "\n",
       "    .dataframe thead th {\n",
       "        text-align: right;\n",
       "    }\n",
       "</style>\n",
       "<table border=\"1\" class=\"dataframe\">\n",
       "  <thead>\n",
       "    <tr style=\"text-align: right;\">\n",
       "      <th></th>\n",
       "      <th>Open</th>\n",
       "      <th>High</th>\n",
       "      <th>Low</th>\n",
       "      <th>Close</th>\n",
       "      <th>Adj Close</th>\n",
       "      <th>Volume</th>\n",
       "    </tr>\n",
       "    <tr>\n",
       "      <th>Date</th>\n",
       "      <th></th>\n",
       "      <th></th>\n",
       "      <th></th>\n",
       "      <th></th>\n",
       "      <th></th>\n",
       "      <th></th>\n",
       "    </tr>\n",
       "  </thead>\n",
       "  <tbody>\n",
       "    <tr>\n",
       "      <th>2021-02-03</th>\n",
       "      <td>135.759995</td>\n",
       "      <td>135.770004</td>\n",
       "      <td>133.610001</td>\n",
       "      <td>133.940002</td>\n",
       "      <td>133.119339</td>\n",
       "      <td>89880900</td>\n",
       "    </tr>\n",
       "    <tr>\n",
       "      <th>2021-02-04</th>\n",
       "      <td>136.300003</td>\n",
       "      <td>137.399994</td>\n",
       "      <td>134.589996</td>\n",
       "      <td>137.389999</td>\n",
       "      <td>136.548218</td>\n",
       "      <td>84183100</td>\n",
       "    </tr>\n",
       "    <tr>\n",
       "      <th>2021-02-05</th>\n",
       "      <td>137.350006</td>\n",
       "      <td>137.419998</td>\n",
       "      <td>135.860001</td>\n",
       "      <td>136.759995</td>\n",
       "      <td>136.125168</td>\n",
       "      <td>75693800</td>\n",
       "    </tr>\n",
       "    <tr>\n",
       "      <th>2021-02-08</th>\n",
       "      <td>136.029999</td>\n",
       "      <td>136.960007</td>\n",
       "      <td>134.919998</td>\n",
       "      <td>136.910004</td>\n",
       "      <td>136.274490</td>\n",
       "      <td>71297200</td>\n",
       "    </tr>\n",
       "    <tr>\n",
       "      <th>2021-02-09</th>\n",
       "      <td>136.619995</td>\n",
       "      <td>137.880005</td>\n",
       "      <td>135.850006</td>\n",
       "      <td>136.009995</td>\n",
       "      <td>135.378647</td>\n",
       "      <td>76774200</td>\n",
       "    </tr>\n",
       "  </tbody>\n",
       "</table>\n",
       "</div>"
      ],
      "text/plain": [
       "                  Open        High         Low       Close   Adj Close  \\\n",
       "Date                                                                     \n",
       "2021-02-03  135.759995  135.770004  133.610001  133.940002  133.119339   \n",
       "2021-02-04  136.300003  137.399994  134.589996  137.389999  136.548218   \n",
       "2021-02-05  137.350006  137.419998  135.860001  136.759995  136.125168   \n",
       "2021-02-08  136.029999  136.960007  134.919998  136.910004  136.274490   \n",
       "2021-02-09  136.619995  137.880005  135.850006  136.009995  135.378647   \n",
       "\n",
       "              Volume  \n",
       "Date                  \n",
       "2021-02-03  89880900  \n",
       "2021-02-04  84183100  \n",
       "2021-02-05  75693800  \n",
       "2021-02-08  71297200  \n",
       "2021-02-09  76774200  "
      ]
     },
     "execution_count": 5,
     "metadata": {},
     "output_type": "execute_result"
    }
   ],
   "source": [
    "data.head()"
   ]
  },
  {
   "cell_type": "code",
   "execution_count": 16,
   "id": "92249153",
   "metadata": {},
   "outputs": [
    {
     "data": {
      "text/plain": [
       "Open         float64\n",
       "High         float64\n",
       "Low          float64\n",
       "Close        float64\n",
       "Adj Close    float64\n",
       "Volume         int64\n",
       "dtype: object"
      ]
     },
     "execution_count": 16,
     "metadata": {},
     "output_type": "execute_result"
    }
   ],
   "source": [
    "data.dtypes"
   ]
  },
  {
   "cell_type": "code",
   "execution_count": 6,
   "id": "3ba2b581",
   "metadata": {},
   "outputs": [
    {
     "data": {
      "text/plain": [
       "pandas.core.frame.DataFrame"
      ]
     },
     "execution_count": 6,
     "metadata": {},
     "output_type": "execute_result"
    }
   ],
   "source": [
    "#Looking at the data type of the dataframe itself\n",
    "\n",
    "type(data)"
   ]
  },
  {
   "cell_type": "code",
   "execution_count": 7,
   "id": "ba68f68a",
   "metadata": {},
   "outputs": [
    {
     "data": {
      "text/plain": [
       "Date\n",
       "2021-02-03    133.940002\n",
       "2021-02-04    137.389999\n",
       "2021-02-05    136.759995\n",
       "2021-02-08    136.910004\n",
       "2021-02-09    136.009995\n",
       "                 ...    \n",
       "2022-01-27    159.220001\n",
       "2022-01-28    170.330002\n",
       "2022-01-31    174.779999\n",
       "2022-02-01    174.610001\n",
       "2022-02-02    175.839996\n",
       "Name: Close, Length: 253, dtype: float64"
      ]
     },
     "execution_count": 7,
     "metadata": {},
     "output_type": "execute_result"
    }
   ],
   "source": [
    "#To access a specific column e,g the 'close column' \n",
    "# Note that the spelling must be the same because python is case sensitive at this point\n",
    "\n",
    "data['Close']"
   ]
  },
  {
   "cell_type": "code",
   "execution_count": 8,
   "id": "89b70738",
   "metadata": {},
   "outputs": [
    {
     "data": {
      "text/plain": [
       "pandas.core.series.Series"
      ]
     },
     "execution_count": 8,
     "metadata": {},
     "output_type": "execute_result"
    }
   ],
   "source": [
    "#Looking at the type of the object\n",
    "\n",
    "type(data['Close'])"
   ]
  },
  {
   "cell_type": "code",
   "execution_count": 27,
   "id": "e4c2e234",
   "metadata": {},
   "outputs": [],
   "source": [
    "#Looking at the difference between the opening price and the closing price. I will call it \"Daily change\".\n",
    "daily_chg = data['Open']-data['Close']"
   ]
  },
  {
   "cell_type": "code",
   "execution_count": 29,
   "id": "916a628d",
   "metadata": {},
   "outputs": [
    {
     "data": {
      "text/plain": [
       "Date\n",
       "2021-02-03    1.819993\n",
       "2021-02-04   -1.089996\n",
       "2021-02-05    0.590011\n",
       "2021-02-08   -0.880005\n",
       "2021-02-09    0.610000\n",
       "                ...   \n",
       "2022-01-27    3.229996\n",
       "2022-01-28   -4.619995\n",
       "2022-01-31   -4.619995\n",
       "2022-02-01   -0.600006\n",
       "2022-02-02   -1.089996\n",
       "Length: 253, dtype: float64"
      ]
     },
     "execution_count": 29,
     "metadata": {},
     "output_type": "execute_result"
    }
   ],
   "source": [
    "daily_chg"
   ]
  },
  {
   "cell_type": "code",
   "execution_count": 32,
   "id": "ea9eebc7",
   "metadata": {},
   "outputs": [
    {
     "data": {
      "text/plain": [
       "pandas.core.series.Series"
      ]
     },
     "execution_count": 32,
     "metadata": {},
     "output_type": "execute_result"
    }
   ],
   "source": [
    "#To see daily_chg data type\n",
    "type(daily_chg)"
   ]
  },
  {
   "cell_type": "code",
   "execution_count": 38,
   "id": "192faf68",
   "metadata": {},
   "outputs": [],
   "source": [
    "#Looking at the daily percentage change\n",
    "daily_pct_chg = (data['Close']-data['Open'])/data['Open']*100"
   ]
  },
  {
   "cell_type": "code",
   "execution_count": 39,
   "id": "edf8d43d",
   "metadata": {},
   "outputs": [
    {
     "data": {
      "text/plain": [
       "Date\n",
       "2021-02-03   -1.340596\n",
       "2021-02-04    0.799704\n",
       "2021-02-05   -0.429568\n",
       "2021-02-08    0.646920\n",
       "2021-02-09   -0.446494\n",
       "                ...   \n",
       "2022-01-27   -1.988302\n",
       "2022-01-28    2.788000\n",
       "2022-01-31    2.715089\n",
       "2022-02-01    0.344811\n",
       "2022-02-02    0.623746\n",
       "Length: 253, dtype: float64"
      ]
     },
     "execution_count": 39,
     "metadata": {},
     "output_type": "execute_result"
    }
   ],
   "source": [
    "daily_pct_chg"
   ]
  },
  {
   "cell_type": "code",
   "execution_count": 40,
   "id": "8f2e0825",
   "metadata": {},
   "outputs": [
    {
     "data": {
      "text/plain": [
       "133.940002"
      ]
     },
     "execution_count": 40,
     "metadata": {},
     "output_type": "execute_result"
    }
   ],
   "source": [
    "#To normalise my data i.e looking at a daily trade to know my entry, exit and gain/loss\n",
    "#To know my entry point(cost price)\n",
    "data['Close'].iloc[0]\n"
   ]
  },
  {
   "cell_type": "code",
   "execution_count": 41,
   "id": "f90cd678",
   "metadata": {},
   "outputs": [
    {
     "data": {
      "text/plain": [
       "175.839996"
      ]
     },
     "execution_count": 41,
     "metadata": {},
     "output_type": "execute_result"
    }
   ],
   "source": [
    "#To know my exit point(Selling Price)\n",
    "data['Close'].iloc[-1]"
   ]
  },
  {
   "cell_type": "code",
   "execution_count": 45,
   "id": "b8f19d82",
   "metadata": {},
   "outputs": [
    {
     "data": {
      "text/plain": [
       "Date\n",
       "2021-02-03    1.000000\n",
       "2021-02-04    1.025758\n",
       "2021-02-05    1.021054\n",
       "2021-02-08    1.022174\n",
       "2021-02-09    1.015455\n",
       "                ...   \n",
       "2022-01-27    1.188741\n",
       "2022-01-28    1.271689\n",
       "2022-01-31    1.304913\n",
       "2022-02-01    1.303643\n",
       "2022-02-02    1.312827\n",
       "Name: Close, Length: 253, dtype: float64"
      ]
     },
     "execution_count": 45,
     "metadata": {},
     "output_type": "execute_result"
    }
   ],
   "source": [
    "#To normalise my data to know by how much my asset has grown or reduced\n",
    "\n",
    "norm = data['Close']/data['Close'].iloc[0] \n",
    "norm"
   ]
  },
  {
   "cell_type": "code",
   "execution_count": 46,
   "id": "9991bac9",
   "metadata": {},
   "outputs": [
    {
     "data": {
      "text/plain": [
       "175.839996"
      ]
     },
     "execution_count": 46,
     "metadata": {},
     "output_type": "execute_result"
    }
   ],
   "source": [
    "#This means that 31% profit was made at the end of one year\n",
    "#To confirm this analysis\n",
    "\n",
    "data['Close'].iloc[0]*norm.iloc[-1]"
   ]
  },
  {
   "cell_type": "code",
   "execution_count": 47,
   "id": "7a901da3",
   "metadata": {},
   "outputs": [
    {
     "data": {
      "text/plain": [
       "175.839996"
      ]
     },
     "execution_count": 47,
     "metadata": {},
     "output_type": "execute_result"
    }
   ],
   "source": [
    "#The analysis above has given us the same value of the last closing price of the year\n",
    "data['Close'].iloc[-1]"
   ]
  },
  {
   "cell_type": "code",
   "execution_count": null,
   "id": "2efd74e3",
   "metadata": {},
   "outputs": [],
   "source": []
  },
  {
   "cell_type": "code",
   "execution_count": null,
   "id": "749fefe8",
   "metadata": {},
   "outputs": [],
   "source": []
  },
  {
   "cell_type": "code",
   "execution_count": null,
   "id": "f1804537",
   "metadata": {},
   "outputs": [],
   "source": []
  },
  {
   "cell_type": "code",
   "execution_count": null,
   "id": "8241d2d5",
   "metadata": {},
   "outputs": [],
   "source": []
  },
  {
   "cell_type": "code",
   "execution_count": null,
   "id": "bf4ae5fa",
   "metadata": {},
   "outputs": [],
   "source": []
  },
  {
   "cell_type": "code",
   "execution_count": null,
   "id": "ae589103",
   "metadata": {},
   "outputs": [],
   "source": []
  },
  {
   "cell_type": "code",
   "execution_count": null,
   "id": "ed80d962",
   "metadata": {},
   "outputs": [],
   "source": []
  },
  {
   "cell_type": "code",
   "execution_count": null,
   "id": "c6c9d9c9",
   "metadata": {},
   "outputs": [],
   "source": []
  },
  {
   "cell_type": "code",
   "execution_count": null,
   "id": "b8de5cf1",
   "metadata": {},
   "outputs": [],
   "source": []
  },
  {
   "cell_type": "code",
   "execution_count": null,
   "id": "ee6f6fa0",
   "metadata": {},
   "outputs": [],
   "source": []
  },
  {
   "cell_type": "code",
   "execution_count": null,
   "id": "c973f780",
   "metadata": {},
   "outputs": [],
   "source": []
  },
  {
   "cell_type": "code",
   "execution_count": null,
   "id": "bb2c58e4",
   "metadata": {},
   "outputs": [],
   "source": []
  },
  {
   "cell_type": "code",
   "execution_count": null,
   "id": "b3eb07da",
   "metadata": {},
   "outputs": [],
   "source": []
  },
  {
   "cell_type": "code",
   "execution_count": null,
   "id": "af7045fe",
   "metadata": {},
   "outputs": [],
   "source": []
  },
  {
   "cell_type": "code",
   "execution_count": null,
   "id": "4fcf6030",
   "metadata": {},
   "outputs": [],
   "source": []
  },
  {
   "cell_type": "code",
   "execution_count": null,
   "id": "d2d03cde",
   "metadata": {},
   "outputs": [],
   "source": []
  },
  {
   "cell_type": "code",
   "execution_count": null,
   "id": "cd7ee367",
   "metadata": {},
   "outputs": [],
   "source": []
  },
  {
   "cell_type": "code",
   "execution_count": null,
   "id": "4209b0fa",
   "metadata": {},
   "outputs": [],
   "source": []
  },
  {
   "cell_type": "code",
   "execution_count": null,
   "id": "9d99a558",
   "metadata": {},
   "outputs": [],
   "source": []
  },
  {
   "cell_type": "code",
   "execution_count": null,
   "id": "a5ebae8a",
   "metadata": {},
   "outputs": [],
   "source": []
  },
  {
   "cell_type": "code",
   "execution_count": null,
   "id": "201c1e7e",
   "metadata": {},
   "outputs": [],
   "source": []
  },
  {
   "cell_type": "code",
   "execution_count": null,
   "id": "86754e99",
   "metadata": {},
   "outputs": [],
   "source": []
  },
  {
   "cell_type": "code",
   "execution_count": null,
   "id": "f3308de3",
   "metadata": {},
   "outputs": [],
   "source": []
  },
  {
   "cell_type": "code",
   "execution_count": null,
   "id": "7d00bcaf",
   "metadata": {},
   "outputs": [],
   "source": []
  },
  {
   "cell_type": "code",
   "execution_count": null,
   "id": "a7bb527e",
   "metadata": {},
   "outputs": [],
   "source": []
  },
  {
   "cell_type": "code",
   "execution_count": null,
   "id": "f205a3c6",
   "metadata": {},
   "outputs": [],
   "source": []
  },
  {
   "cell_type": "code",
   "execution_count": null,
   "id": "9d7d4f27",
   "metadata": {},
   "outputs": [],
   "source": []
  },
  {
   "cell_type": "code",
   "execution_count": null,
   "id": "e2567b34",
   "metadata": {},
   "outputs": [],
   "source": []
  }
 ],
 "metadata": {
  "kernelspec": {
   "display_name": "Python 3 (ipykernel)",
   "language": "python",
   "name": "python3"
  },
  "language_info": {
   "codemirror_mode": {
    "name": "ipython",
    "version": 3
   },
   "file_extension": ".py",
   "mimetype": "text/x-python",
   "name": "python",
   "nbconvert_exporter": "python",
   "pygments_lexer": "ipython3",
   "version": "3.9.7"
  }
 },
 "nbformat": 4,
 "nbformat_minor": 5
}
