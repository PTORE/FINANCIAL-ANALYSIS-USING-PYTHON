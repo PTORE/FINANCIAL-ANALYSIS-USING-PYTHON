{
 "cells": [
  {
   "cell_type": "code",
   "execution_count": null,
   "id": "01483b1d",
   "metadata": {},
   "outputs": [],
   "source": []
  },
  {
   "cell_type": "code",
   "execution_count": 1,
   "id": "61369121",
   "metadata": {},
   "outputs": [],
   "source": [
    "#Importing libraries\n",
    "\n",
    "import pandas as pd "
   ]
  },
  {
   "cell_type": "code",
   "execution_count": 2,
   "id": "b42e69e3",
   "metadata": {},
   "outputs": [],
   "source": [
    "#Importing the data from the csv file\n",
    "data = pd.read_csv(r\"C:\\Users\\ADORABELLA\\Documents\\GODWIN\\CAREER\\DATA ANALYST\\PORTFOLIO\\Rune Tutorials\\Financial Analysis\\AAPL.csv\", index_col=0, parse_dates=True)"
   ]
  },
  {
   "cell_type": "code",
   "execution_count": 3,
   "id": "59aeeb65",
   "metadata": {},
   "outputs": [
    {
     "data": {
      "text/html": [
       "<div>\n",
       "<style scoped>\n",
       "    .dataframe tbody tr th:only-of-type {\n",
       "        vertical-align: middle;\n",
       "    }\n",
       "\n",
       "    .dataframe tbody tr th {\n",
       "        vertical-align: top;\n",
       "    }\n",
       "\n",
       "    .dataframe thead th {\n",
       "        text-align: right;\n",
       "    }\n",
       "</style>\n",
       "<table border=\"1\" class=\"dataframe\">\n",
       "  <thead>\n",
       "    <tr style=\"text-align: right;\">\n",
       "      <th></th>\n",
       "      <th>Open</th>\n",
       "      <th>High</th>\n",
       "      <th>Low</th>\n",
       "      <th>Close</th>\n",
       "      <th>Adj Close</th>\n",
       "      <th>Volume</th>\n",
       "    </tr>\n",
       "    <tr>\n",
       "      <th>Date</th>\n",
       "      <th></th>\n",
       "      <th></th>\n",
       "      <th></th>\n",
       "      <th></th>\n",
       "      <th></th>\n",
       "      <th></th>\n",
       "    </tr>\n",
       "  </thead>\n",
       "  <tbody>\n",
       "    <tr>\n",
       "      <th>2021-02-03</th>\n",
       "      <td>135.759995</td>\n",
       "      <td>135.770004</td>\n",
       "      <td>133.610001</td>\n",
       "      <td>133.940002</td>\n",
       "      <td>133.119339</td>\n",
       "      <td>89880900</td>\n",
       "    </tr>\n",
       "    <tr>\n",
       "      <th>2021-02-04</th>\n",
       "      <td>136.300003</td>\n",
       "      <td>137.399994</td>\n",
       "      <td>134.589996</td>\n",
       "      <td>137.389999</td>\n",
       "      <td>136.548218</td>\n",
       "      <td>84183100</td>\n",
       "    </tr>\n",
       "    <tr>\n",
       "      <th>2021-02-05</th>\n",
       "      <td>137.350006</td>\n",
       "      <td>137.419998</td>\n",
       "      <td>135.860001</td>\n",
       "      <td>136.759995</td>\n",
       "      <td>136.125168</td>\n",
       "      <td>75693800</td>\n",
       "    </tr>\n",
       "    <tr>\n",
       "      <th>2021-02-08</th>\n",
       "      <td>136.029999</td>\n",
       "      <td>136.960007</td>\n",
       "      <td>134.919998</td>\n",
       "      <td>136.910004</td>\n",
       "      <td>136.274490</td>\n",
       "      <td>71297200</td>\n",
       "    </tr>\n",
       "    <tr>\n",
       "      <th>2021-02-09</th>\n",
       "      <td>136.619995</td>\n",
       "      <td>137.880005</td>\n",
       "      <td>135.850006</td>\n",
       "      <td>136.009995</td>\n",
       "      <td>135.378647</td>\n",
       "      <td>76774200</td>\n",
       "    </tr>\n",
       "  </tbody>\n",
       "</table>\n",
       "</div>"
      ],
      "text/plain": [
       "                  Open        High         Low       Close   Adj Close  \\\n",
       "Date                                                                     \n",
       "2021-02-03  135.759995  135.770004  133.610001  133.940002  133.119339   \n",
       "2021-02-04  136.300003  137.399994  134.589996  137.389999  136.548218   \n",
       "2021-02-05  137.350006  137.419998  135.860001  136.759995  136.125168   \n",
       "2021-02-08  136.029999  136.960007  134.919998  136.910004  136.274490   \n",
       "2021-02-09  136.619995  137.880005  135.850006  136.009995  135.378647   \n",
       "\n",
       "              Volume  \n",
       "Date                  \n",
       "2021-02-03  89880900  \n",
       "2021-02-04  84183100  \n",
       "2021-02-05  75693800  \n",
       "2021-02-08  71297200  \n",
       "2021-02-09  76774200  "
      ]
     },
     "execution_count": 3,
     "metadata": {},
     "output_type": "execute_result"
    }
   ],
   "source": [
    "data.head()"
   ]
  },
  {
   "cell_type": "code",
   "execution_count": 12,
   "id": "3c48cdfe",
   "metadata": {},
   "outputs": [
    {
     "data": {
      "text/html": [
       "<div>\n",
       "<style scoped>\n",
       "    .dataframe tbody tr th:only-of-type {\n",
       "        vertical-align: middle;\n",
       "    }\n",
       "\n",
       "    .dataframe tbody tr th {\n",
       "        vertical-align: top;\n",
       "    }\n",
       "\n",
       "    .dataframe thead th {\n",
       "        text-align: right;\n",
       "    }\n",
       "</style>\n",
       "<table border=\"1\" class=\"dataframe\">\n",
       "  <thead>\n",
       "    <tr style=\"text-align: right;\">\n",
       "      <th></th>\n",
       "      <th>Open</th>\n",
       "      <th>High</th>\n",
       "      <th>Low</th>\n",
       "      <th>Close</th>\n",
       "      <th>Adj Close</th>\n",
       "      <th>Volume</th>\n",
       "      <th>Daily chg</th>\n",
       "    </tr>\n",
       "    <tr>\n",
       "      <th>Date</th>\n",
       "      <th></th>\n",
       "      <th></th>\n",
       "      <th></th>\n",
       "      <th></th>\n",
       "      <th></th>\n",
       "      <th></th>\n",
       "      <th></th>\n",
       "    </tr>\n",
       "  </thead>\n",
       "  <tbody>\n",
       "    <tr>\n",
       "      <th>2021-02-03</th>\n",
       "      <td>135.759995</td>\n",
       "      <td>135.770004</td>\n",
       "      <td>133.610001</td>\n",
       "      <td>133.940002</td>\n",
       "      <td>133.119339</td>\n",
       "      <td>89880900</td>\n",
       "      <td>-1.819993</td>\n",
       "    </tr>\n",
       "    <tr>\n",
       "      <th>2021-02-04</th>\n",
       "      <td>136.300003</td>\n",
       "      <td>137.399994</td>\n",
       "      <td>134.589996</td>\n",
       "      <td>137.389999</td>\n",
       "      <td>136.548218</td>\n",
       "      <td>84183100</td>\n",
       "      <td>1.089996</td>\n",
       "    </tr>\n",
       "    <tr>\n",
       "      <th>2021-02-05</th>\n",
       "      <td>137.350006</td>\n",
       "      <td>137.419998</td>\n",
       "      <td>135.860001</td>\n",
       "      <td>136.759995</td>\n",
       "      <td>136.125168</td>\n",
       "      <td>75693800</td>\n",
       "      <td>-0.590011</td>\n",
       "    </tr>\n",
       "    <tr>\n",
       "      <th>2021-02-08</th>\n",
       "      <td>136.029999</td>\n",
       "      <td>136.960007</td>\n",
       "      <td>134.919998</td>\n",
       "      <td>136.910004</td>\n",
       "      <td>136.274490</td>\n",
       "      <td>71297200</td>\n",
       "      <td>0.880005</td>\n",
       "    </tr>\n",
       "    <tr>\n",
       "      <th>2021-02-09</th>\n",
       "      <td>136.619995</td>\n",
       "      <td>137.880005</td>\n",
       "      <td>135.850006</td>\n",
       "      <td>136.009995</td>\n",
       "      <td>135.378647</td>\n",
       "      <td>76774200</td>\n",
       "      <td>-0.610000</td>\n",
       "    </tr>\n",
       "  </tbody>\n",
       "</table>\n",
       "</div>"
      ],
      "text/plain": [
       "                  Open        High         Low       Close   Adj Close  \\\n",
       "Date                                                                     \n",
       "2021-02-03  135.759995  135.770004  133.610001  133.940002  133.119339   \n",
       "2021-02-04  136.300003  137.399994  134.589996  137.389999  136.548218   \n",
       "2021-02-05  137.350006  137.419998  135.860001  136.759995  136.125168   \n",
       "2021-02-08  136.029999  136.960007  134.919998  136.910004  136.274490   \n",
       "2021-02-09  136.619995  137.880005  135.850006  136.009995  135.378647   \n",
       "\n",
       "              Volume  Daily chg  \n",
       "Date                             \n",
       "2021-02-03  89880900  -1.819993  \n",
       "2021-02-04  84183100   1.089996  \n",
       "2021-02-05  75693800  -0.590011  \n",
       "2021-02-08  71297200   0.880005  \n",
       "2021-02-09  76774200  -0.610000  "
      ]
     },
     "execution_count": 12,
     "metadata": {},
     "output_type": "execute_result"
    }
   ],
   "source": [
    "#To add new column(Daily chg) to the dataframe\n",
    "data['Daily chg'] = data['Close']-data['Open']\n",
    "data.head()"
   ]
  },
  {
   "cell_type": "code",
   "execution_count": 30,
   "id": "c78ab690",
   "metadata": {},
   "outputs": [
    {
     "data": {
      "text/html": [
       "<div>\n",
       "<style scoped>\n",
       "    .dataframe tbody tr th:only-of-type {\n",
       "        vertical-align: middle;\n",
       "    }\n",
       "\n",
       "    .dataframe tbody tr th {\n",
       "        vertical-align: top;\n",
       "    }\n",
       "\n",
       "    .dataframe thead th {\n",
       "        text-align: right;\n",
       "    }\n",
       "</style>\n",
       "<table border=\"1\" class=\"dataframe\">\n",
       "  <thead>\n",
       "    <tr style=\"text-align: right;\">\n",
       "      <th></th>\n",
       "      <th>Open</th>\n",
       "      <th>High</th>\n",
       "      <th>Low</th>\n",
       "      <th>Close</th>\n",
       "      <th>Adj Close</th>\n",
       "      <th>Volume</th>\n",
       "      <th>Daily chg</th>\n",
       "      <th>Normalised</th>\n",
       "    </tr>\n",
       "    <tr>\n",
       "      <th>Date</th>\n",
       "      <th></th>\n",
       "      <th></th>\n",
       "      <th></th>\n",
       "      <th></th>\n",
       "      <th></th>\n",
       "      <th></th>\n",
       "      <th></th>\n",
       "      <th></th>\n",
       "    </tr>\n",
       "  </thead>\n",
       "  <tbody>\n",
       "    <tr>\n",
       "      <th>2021-02-03</th>\n",
       "      <td>135.759995</td>\n",
       "      <td>135.770004</td>\n",
       "      <td>133.610001</td>\n",
       "      <td>133.940002</td>\n",
       "      <td>133.119339</td>\n",
       "      <td>89880900</td>\n",
       "      <td>-1.819993</td>\n",
       "      <td>1.000000</td>\n",
       "    </tr>\n",
       "    <tr>\n",
       "      <th>2021-02-04</th>\n",
       "      <td>136.300003</td>\n",
       "      <td>137.399994</td>\n",
       "      <td>134.589996</td>\n",
       "      <td>137.389999</td>\n",
       "      <td>136.548218</td>\n",
       "      <td>84183100</td>\n",
       "      <td>1.089996</td>\n",
       "      <td>1.025758</td>\n",
       "    </tr>\n",
       "    <tr>\n",
       "      <th>2021-02-05</th>\n",
       "      <td>137.350006</td>\n",
       "      <td>137.419998</td>\n",
       "      <td>135.860001</td>\n",
       "      <td>136.759995</td>\n",
       "      <td>136.125168</td>\n",
       "      <td>75693800</td>\n",
       "      <td>-0.590011</td>\n",
       "      <td>1.021054</td>\n",
       "    </tr>\n",
       "    <tr>\n",
       "      <th>2021-02-08</th>\n",
       "      <td>136.029999</td>\n",
       "      <td>136.960007</td>\n",
       "      <td>134.919998</td>\n",
       "      <td>136.910004</td>\n",
       "      <td>136.274490</td>\n",
       "      <td>71297200</td>\n",
       "      <td>0.880005</td>\n",
       "      <td>1.022174</td>\n",
       "    </tr>\n",
       "    <tr>\n",
       "      <th>2021-02-09</th>\n",
       "      <td>136.619995</td>\n",
       "      <td>137.880005</td>\n",
       "      <td>135.850006</td>\n",
       "      <td>136.009995</td>\n",
       "      <td>135.378647</td>\n",
       "      <td>76774200</td>\n",
       "      <td>-0.610000</td>\n",
       "      <td>1.015455</td>\n",
       "    </tr>\n",
       "  </tbody>\n",
       "</table>\n",
       "</div>"
      ],
      "text/plain": [
       "                  Open        High         Low       Close   Adj Close  \\\n",
       "Date                                                                     \n",
       "2021-02-03  135.759995  135.770004  133.610001  133.940002  133.119339   \n",
       "2021-02-04  136.300003  137.399994  134.589996  137.389999  136.548218   \n",
       "2021-02-05  137.350006  137.419998  135.860001  136.759995  136.125168   \n",
       "2021-02-08  136.029999  136.960007  134.919998  136.910004  136.274490   \n",
       "2021-02-09  136.619995  137.880005  135.850006  136.009995  135.378647   \n",
       "\n",
       "              Volume  Daily chg  Normalised  \n",
       "Date                                         \n",
       "2021-02-03  89880900  -1.819993    1.000000  \n",
       "2021-02-04  84183100   1.089996    1.025758  \n",
       "2021-02-05  75693800  -0.590011    1.021054  \n",
       "2021-02-08  71297200   0.880005    1.022174  \n",
       "2021-02-09  76774200  -0.610000    1.015455  "
      ]
     },
     "execution_count": 30,
     "metadata": {},
     "output_type": "execute_result"
    }
   ],
   "source": [
    "# Adding another column(Normilsed) to the dataframe\n",
    "data['Normalised'] = data['Close']/data['Close'].iloc[0]\n",
    "data.head()"
   ]
  },
  {
   "cell_type": "code",
   "execution_count": 28,
   "id": "e433f991",
   "metadata": {},
   "outputs": [
    {
     "data": {
      "text/html": [
       "<div>\n",
       "<style scoped>\n",
       "    .dataframe tbody tr th:only-of-type {\n",
       "        vertical-align: middle;\n",
       "    }\n",
       "\n",
       "    .dataframe tbody tr th {\n",
       "        vertical-align: top;\n",
       "    }\n",
       "\n",
       "    .dataframe thead th {\n",
       "        text-align: right;\n",
       "    }\n",
       "</style>\n",
       "<table border=\"1\" class=\"dataframe\">\n",
       "  <thead>\n",
       "    <tr style=\"text-align: right;\">\n",
       "      <th></th>\n",
       "      <th>Open</th>\n",
       "      <th>High</th>\n",
       "      <th>Low</th>\n",
       "      <th>Close</th>\n",
       "      <th>Adj Close</th>\n",
       "      <th>Volume</th>\n",
       "      <th>Daily chg</th>\n",
       "      <th>Normalised</th>\n",
       "    </tr>\n",
       "    <tr>\n",
       "      <th>Date</th>\n",
       "      <th></th>\n",
       "      <th></th>\n",
       "      <th></th>\n",
       "      <th></th>\n",
       "      <th></th>\n",
       "      <th></th>\n",
       "      <th></th>\n",
       "      <th></th>\n",
       "    </tr>\n",
       "  </thead>\n",
       "  <tbody>\n",
       "    <tr>\n",
       "      <th>2022-01-27</th>\n",
       "      <td>162.449997</td>\n",
       "      <td>163.839996</td>\n",
       "      <td>158.279999</td>\n",
       "      <td>159.220001</td>\n",
       "      <td>159.220001</td>\n",
       "      <td>121954600</td>\n",
       "      <td>-3.229996</td>\n",
       "      <td>1.188741</td>\n",
       "    </tr>\n",
       "    <tr>\n",
       "      <th>2022-01-28</th>\n",
       "      <td>165.710007</td>\n",
       "      <td>170.350006</td>\n",
       "      <td>162.800003</td>\n",
       "      <td>170.330002</td>\n",
       "      <td>170.330002</td>\n",
       "      <td>179935700</td>\n",
       "      <td>4.619995</td>\n",
       "      <td>1.271689</td>\n",
       "    </tr>\n",
       "    <tr>\n",
       "      <th>2022-01-31</th>\n",
       "      <td>170.160004</td>\n",
       "      <td>175.000000</td>\n",
       "      <td>169.509995</td>\n",
       "      <td>174.779999</td>\n",
       "      <td>174.779999</td>\n",
       "      <td>115541600</td>\n",
       "      <td>4.619995</td>\n",
       "      <td>1.304913</td>\n",
       "    </tr>\n",
       "    <tr>\n",
       "      <th>2022-02-01</th>\n",
       "      <td>174.009995</td>\n",
       "      <td>174.839996</td>\n",
       "      <td>172.309998</td>\n",
       "      <td>174.610001</td>\n",
       "      <td>174.610001</td>\n",
       "      <td>86213900</td>\n",
       "      <td>0.600006</td>\n",
       "      <td>1.303643</td>\n",
       "    </tr>\n",
       "    <tr>\n",
       "      <th>2022-02-02</th>\n",
       "      <td>174.750000</td>\n",
       "      <td>175.880005</td>\n",
       "      <td>173.330002</td>\n",
       "      <td>175.839996</td>\n",
       "      <td>175.839996</td>\n",
       "      <td>79172100</td>\n",
       "      <td>1.089996</td>\n",
       "      <td>1.312827</td>\n",
       "    </tr>\n",
       "  </tbody>\n",
       "</table>\n",
       "</div>"
      ],
      "text/plain": [
       "                  Open        High         Low       Close   Adj Close  \\\n",
       "Date                                                                     \n",
       "2022-01-27  162.449997  163.839996  158.279999  159.220001  159.220001   \n",
       "2022-01-28  165.710007  170.350006  162.800003  170.330002  170.330002   \n",
       "2022-01-31  170.160004  175.000000  169.509995  174.779999  174.779999   \n",
       "2022-02-01  174.009995  174.839996  172.309998  174.610001  174.610001   \n",
       "2022-02-02  174.750000  175.880005  173.330002  175.839996  175.839996   \n",
       "\n",
       "               Volume  Daily chg  Normalised  \n",
       "Date                                          \n",
       "2022-01-27  121954600  -3.229996    1.188741  \n",
       "2022-01-28  179935700   4.619995    1.271689  \n",
       "2022-01-31  115541600   4.619995    1.304913  \n",
       "2022-02-01   86213900   0.600006    1.303643  \n",
       "2022-02-02   79172100   1.089996    1.312827  "
      ]
     },
     "execution_count": 28,
     "metadata": {},
     "output_type": "execute_result"
    }
   ],
   "source": [
    "data.tail()"
   ]
  },
  {
   "cell_type": "code",
   "execution_count": 34,
   "id": "1653d4ae",
   "metadata": {},
   "outputs": [
    {
     "data": {
      "text/plain": [
       "116.360001"
      ]
     },
     "execution_count": 34,
     "metadata": {},
     "output_type": "execute_result"
    }
   ],
   "source": [
    "#To get specific data from a specific column or from the entire dataframe\n",
    "#Example, i will be getting the minimum closing price \n",
    "data['Close'].min()"
   ]
  },
  {
   "cell_type": "code",
   "execution_count": 36,
   "id": "5951d1fc",
   "metadata": {},
   "outputs": [
    {
     "data": {
      "text/plain": [
       "Open          1.190300e+02\n",
       "High          1.204000e+02\n",
       "Low           1.162100e+02\n",
       "Close         1.163600e+02\n",
       "Adj Close     1.158199e+02\n",
       "Volume        4.100000e+07\n",
       "Daily chg    -7.020004e+00\n",
       "Normalised    8.687472e-01\n",
       "dtype: float64"
      ]
     },
     "execution_count": 36,
     "metadata": {},
     "output_type": "execute_result"
    }
   ],
   "source": [
    "# I will also get the minimum price for each column in the dataframe\n",
    "data.min()"
   ]
  },
  {
   "cell_type": "code",
   "execution_count": 37,
   "id": "8bc2a99b",
   "metadata": {},
   "outputs": [
    {
     "data": {
      "text/plain": [
       "22"
      ]
     },
     "execution_count": 37,
     "metadata": {},
     "output_type": "execute_result"
    }
   ],
   "source": [
    "#To know the data index of data['Close'].min()\n",
    "data['Close'].argmin()"
   ]
  },
  {
   "cell_type": "code",
   "execution_count": 38,
   "id": "b2ef19bd",
   "metadata": {},
   "outputs": [
    {
     "data": {
      "text/plain": [
       "Open          1.209300e+02\n",
       "High          1.210000e+02\n",
       "Low           1.162100e+02\n",
       "Close         1.163600e+02\n",
       "Adj Close     1.158199e+02\n",
       "Volume        1.543766e+08\n",
       "Daily chg    -4.569999e+00\n",
       "Normalised    8.687472e-01\n",
       "Name: 2021-03-08 00:00:00, dtype: float64"
      ]
     },
     "execution_count": 38,
     "metadata": {},
     "output_type": "execute_result"
    }
   ],
   "source": [
    "#To confirm the index figure \n",
    "data.iloc[22]"
   ]
  },
  {
   "cell_type": "code",
   "execution_count": 39,
   "id": "1594653a",
   "metadata": {},
   "outputs": [
    {
     "data": {
      "text/plain": [
       "Date\n",
       "2021-03-02    125.120003\n",
       "2021-03-03    122.059998\n",
       "2021-03-04    120.129997\n",
       "2021-03-05    121.419998\n",
       "2021-03-08    116.360001\n",
       "2021-03-09    121.089996\n",
       "2021-03-10    119.980003\n",
       "2021-03-11    121.959999\n",
       "Name: Close, dtype: float64"
      ]
     },
     "execution_count": 39,
     "metadata": {},
     "output_type": "execute_result"
    }
   ],
   "source": [
    "#I also want to know the minimum value between indexes in a specific column\n",
    "data['Close'].iloc[18:26]"
   ]
  },
  {
   "cell_type": "code",
   "execution_count": 40,
   "id": "641cfaff",
   "metadata": {},
   "outputs": [
    {
     "data": {
      "text/html": [
       "<div>\n",
       "<style scoped>\n",
       "    .dataframe tbody tr th:only-of-type {\n",
       "        vertical-align: middle;\n",
       "    }\n",
       "\n",
       "    .dataframe tbody tr th {\n",
       "        vertical-align: top;\n",
       "    }\n",
       "\n",
       "    .dataframe thead th {\n",
       "        text-align: right;\n",
       "    }\n",
       "</style>\n",
       "<table border=\"1\" class=\"dataframe\">\n",
       "  <thead>\n",
       "    <tr style=\"text-align: right;\">\n",
       "      <th></th>\n",
       "      <th>Open</th>\n",
       "      <th>High</th>\n",
       "      <th>Low</th>\n",
       "      <th>Close</th>\n",
       "      <th>Adj Close</th>\n",
       "      <th>Volume</th>\n",
       "      <th>Daily chg</th>\n",
       "      <th>Normalised</th>\n",
       "    </tr>\n",
       "    <tr>\n",
       "      <th>Date</th>\n",
       "      <th></th>\n",
       "      <th></th>\n",
       "      <th></th>\n",
       "      <th></th>\n",
       "      <th></th>\n",
       "      <th></th>\n",
       "      <th></th>\n",
       "      <th></th>\n",
       "    </tr>\n",
       "  </thead>\n",
       "  <tbody>\n",
       "    <tr>\n",
       "      <th>2021-03-02</th>\n",
       "      <td>128.410004</td>\n",
       "      <td>128.720001</td>\n",
       "      <td>125.010002</td>\n",
       "      <td>125.120003</td>\n",
       "      <td>124.539207</td>\n",
       "      <td>102260900</td>\n",
       "      <td>-3.290001</td>\n",
       "      <td>0.934150</td>\n",
       "    </tr>\n",
       "    <tr>\n",
       "      <th>2021-03-03</th>\n",
       "      <td>124.809998</td>\n",
       "      <td>125.709999</td>\n",
       "      <td>121.839996</td>\n",
       "      <td>122.059998</td>\n",
       "      <td>121.493408</td>\n",
       "      <td>112966300</td>\n",
       "      <td>-2.750000</td>\n",
       "      <td>0.911304</td>\n",
       "    </tr>\n",
       "    <tr>\n",
       "      <th>2021-03-04</th>\n",
       "      <td>121.750000</td>\n",
       "      <td>123.599998</td>\n",
       "      <td>118.620003</td>\n",
       "      <td>120.129997</td>\n",
       "      <td>119.572365</td>\n",
       "      <td>178155000</td>\n",
       "      <td>-1.620003</td>\n",
       "      <td>0.896894</td>\n",
       "    </tr>\n",
       "    <tr>\n",
       "      <th>2021-03-05</th>\n",
       "      <td>120.980003</td>\n",
       "      <td>121.940002</td>\n",
       "      <td>117.570000</td>\n",
       "      <td>121.419998</td>\n",
       "      <td>120.856384</td>\n",
       "      <td>153766600</td>\n",
       "      <td>0.439995</td>\n",
       "      <td>0.906525</td>\n",
       "    </tr>\n",
       "    <tr>\n",
       "      <th>2021-03-08</th>\n",
       "      <td>120.930000</td>\n",
       "      <td>121.000000</td>\n",
       "      <td>116.209999</td>\n",
       "      <td>116.360001</td>\n",
       "      <td>115.819870</td>\n",
       "      <td>154376600</td>\n",
       "      <td>-4.569999</td>\n",
       "      <td>0.868747</td>\n",
       "    </tr>\n",
       "    <tr>\n",
       "      <th>2021-03-09</th>\n",
       "      <td>119.029999</td>\n",
       "      <td>122.059998</td>\n",
       "      <td>118.790001</td>\n",
       "      <td>121.089996</td>\n",
       "      <td>120.527916</td>\n",
       "      <td>129525800</td>\n",
       "      <td>2.059997</td>\n",
       "      <td>0.904061</td>\n",
       "    </tr>\n",
       "    <tr>\n",
       "      <th>2021-03-10</th>\n",
       "      <td>121.690002</td>\n",
       "      <td>122.169998</td>\n",
       "      <td>119.449997</td>\n",
       "      <td>119.980003</td>\n",
       "      <td>119.423080</td>\n",
       "      <td>111943300</td>\n",
       "      <td>-1.709999</td>\n",
       "      <td>0.895774</td>\n",
       "    </tr>\n",
       "    <tr>\n",
       "      <th>2021-03-11</th>\n",
       "      <td>122.540001</td>\n",
       "      <td>123.209999</td>\n",
       "      <td>121.260002</td>\n",
       "      <td>121.959999</td>\n",
       "      <td>121.393875</td>\n",
       "      <td>103026500</td>\n",
       "      <td>-0.580002</td>\n",
       "      <td>0.910557</td>\n",
       "    </tr>\n",
       "  </tbody>\n",
       "</table>\n",
       "</div>"
      ],
      "text/plain": [
       "                  Open        High         Low       Close   Adj Close  \\\n",
       "Date                                                                     \n",
       "2021-03-02  128.410004  128.720001  125.010002  125.120003  124.539207   \n",
       "2021-03-03  124.809998  125.709999  121.839996  122.059998  121.493408   \n",
       "2021-03-04  121.750000  123.599998  118.620003  120.129997  119.572365   \n",
       "2021-03-05  120.980003  121.940002  117.570000  121.419998  120.856384   \n",
       "2021-03-08  120.930000  121.000000  116.209999  116.360001  115.819870   \n",
       "2021-03-09  119.029999  122.059998  118.790001  121.089996  120.527916   \n",
       "2021-03-10  121.690002  122.169998  119.449997  119.980003  119.423080   \n",
       "2021-03-11  122.540001  123.209999  121.260002  121.959999  121.393875   \n",
       "\n",
       "               Volume  Daily chg  Normalised  \n",
       "Date                                          \n",
       "2021-03-02  102260900  -3.290001    0.934150  \n",
       "2021-03-03  112966300  -2.750000    0.911304  \n",
       "2021-03-04  178155000  -1.620003    0.896894  \n",
       "2021-03-05  153766600   0.439995    0.906525  \n",
       "2021-03-08  154376600  -4.569999    0.868747  \n",
       "2021-03-09  129525800   2.059997    0.904061  \n",
       "2021-03-10  111943300  -1.709999    0.895774  \n",
       "2021-03-11  103026500  -0.580002    0.910557  "
      ]
     },
     "execution_count": 40,
     "metadata": {},
     "output_type": "execute_result"
    }
   ],
   "source": [
    "#I also want to know the minimum value between indexes in the entire dataset\n",
    "data.iloc[18:26]"
   ]
  },
  {
   "cell_type": "code",
   "execution_count": 41,
   "id": "39533878",
   "metadata": {},
   "outputs": [
    {
     "data": {
      "text/plain": [
       "0.8687471947327581"
      ]
     },
     "execution_count": 41,
     "metadata": {},
     "output_type": "execute_result"
    }
   ],
   "source": [
    "data['Normalised'].min()"
   ]
  },
  {
   "cell_type": "code",
   "execution_count": 43,
   "id": "41dbe049",
   "metadata": {},
   "outputs": [
    {
     "data": {
      "text/plain": [
       "22"
      ]
     },
     "execution_count": 43,
     "metadata": {},
     "output_type": "execute_result"
    }
   ],
   "source": [
    "data['Normalised'].argmin()"
   ]
  },
  {
   "cell_type": "code",
   "execution_count": 44,
   "id": "9f46aebb",
   "metadata": {},
   "outputs": [
    {
     "data": {
      "text/plain": [
       "182.009995"
      ]
     },
     "execution_count": 44,
     "metadata": {},
     "output_type": "execute_result"
    }
   ],
   "source": [
    "#To get the maximum close price\n",
    "data['Close'].max()"
   ]
  },
  {
   "cell_type": "code",
   "execution_count": 48,
   "id": "fbe4aa6c",
   "metadata": {},
   "outputs": [
    {
     "data": {
      "text/plain": [
       "231"
      ]
     },
     "execution_count": 48,
     "metadata": {},
     "output_type": "execute_result"
    }
   ],
   "source": [
    "#To get the index of the maximum close price\n",
    "data['Close'].argmax()"
   ]
  },
  {
   "cell_type": "code",
   "execution_count": 51,
   "id": "a1f2bbb6",
   "metadata": {},
   "outputs": [
    {
     "data": {
      "text/plain": [
       "Open          1.778300e+02\n",
       "High          1.828800e+02\n",
       "Low           1.777100e+02\n",
       "Close         1.820100e+02\n",
       "Adj Close     1.820100e+02\n",
       "Volume        1.044879e+08\n",
       "Daily chg     4.179993e+00\n",
       "Normalised    1.358892e+00\n",
       "Name: 2022-01-03 00:00:00, dtype: float64"
      ]
     },
     "execution_count": 51,
     "metadata": {},
     "output_type": "execute_result"
    }
   ],
   "source": [
    "#To get the data of index 231 from the dataframe\n",
    "data.iloc[231]"
   ]
  },
  {
   "cell_type": "code",
   "execution_count": 52,
   "id": "31e203f0",
   "metadata": {},
   "outputs": [
    {
     "data": {
      "text/plain": [
       "144.19039527667985"
      ]
     },
     "execution_count": 52,
     "metadata": {},
     "output_type": "execute_result"
    }
   ],
   "source": [
    "#To get the Mean price of the Closing prices\n",
    "data['Close'].mean()"
   ]
  },
  {
   "cell_type": "code",
   "execution_count": null,
   "id": "557cc4ec",
   "metadata": {},
   "outputs": [],
   "source": [
    "#I wish to also drop some columns in the data frame\n",
    "data.drop( labels = ['High','Low', 'Adj Close','Volume'], axis=1,inplace=True)"
   ]
  },
  {
   "cell_type": "code",
   "execution_count": 66,
   "id": "47662f3b",
   "metadata": {},
   "outputs": [
    {
     "data": {
      "text/html": [
       "<div>\n",
       "<style scoped>\n",
       "    .dataframe tbody tr th:only-of-type {\n",
       "        vertical-align: middle;\n",
       "    }\n",
       "\n",
       "    .dataframe tbody tr th {\n",
       "        vertical-align: top;\n",
       "    }\n",
       "\n",
       "    .dataframe thead th {\n",
       "        text-align: right;\n",
       "    }\n",
       "</style>\n",
       "<table border=\"1\" class=\"dataframe\">\n",
       "  <thead>\n",
       "    <tr style=\"text-align: right;\">\n",
       "      <th></th>\n",
       "      <th>Open</th>\n",
       "      <th>Close</th>\n",
       "      <th>Daily chg</th>\n",
       "      <th>Normalised</th>\n",
       "    </tr>\n",
       "    <tr>\n",
       "      <th>Date</th>\n",
       "      <th></th>\n",
       "      <th></th>\n",
       "      <th></th>\n",
       "      <th></th>\n",
       "    </tr>\n",
       "  </thead>\n",
       "  <tbody>\n",
       "    <tr>\n",
       "      <th>2021-02-03</th>\n",
       "      <td>135.759995</td>\n",
       "      <td>133.940002</td>\n",
       "      <td>-1.819993</td>\n",
       "      <td>1.000000</td>\n",
       "    </tr>\n",
       "    <tr>\n",
       "      <th>2021-02-04</th>\n",
       "      <td>136.300003</td>\n",
       "      <td>137.389999</td>\n",
       "      <td>1.089996</td>\n",
       "      <td>1.025758</td>\n",
       "    </tr>\n",
       "    <tr>\n",
       "      <th>2021-02-05</th>\n",
       "      <td>137.350006</td>\n",
       "      <td>136.759995</td>\n",
       "      <td>-0.590011</td>\n",
       "      <td>1.021054</td>\n",
       "    </tr>\n",
       "    <tr>\n",
       "      <th>2021-02-08</th>\n",
       "      <td>136.029999</td>\n",
       "      <td>136.910004</td>\n",
       "      <td>0.880005</td>\n",
       "      <td>1.022174</td>\n",
       "    </tr>\n",
       "    <tr>\n",
       "      <th>2021-02-09</th>\n",
       "      <td>136.619995</td>\n",
       "      <td>136.009995</td>\n",
       "      <td>-0.610000</td>\n",
       "      <td>1.015455</td>\n",
       "    </tr>\n",
       "  </tbody>\n",
       "</table>\n",
       "</div>"
      ],
      "text/plain": [
       "                  Open       Close  Daily chg  Normalised\n",
       "Date                                                     \n",
       "2021-02-03  135.759995  133.940002  -1.819993    1.000000\n",
       "2021-02-04  136.300003  137.389999   1.089996    1.025758\n",
       "2021-02-05  137.350006  136.759995  -0.590011    1.021054\n",
       "2021-02-08  136.029999  136.910004   0.880005    1.022174\n",
       "2021-02-09  136.619995  136.009995  -0.610000    1.015455"
      ]
     },
     "execution_count": 66,
     "metadata": {},
     "output_type": "execute_result"
    }
   ],
   "source": [
    "#Looking at the dataframe \n",
    "data.head()"
   ]
  },
  {
   "cell_type": "code",
   "execution_count": null,
   "id": "daab3b58",
   "metadata": {},
   "outputs": [],
   "source": []
  }
 ],
 "metadata": {
  "kernelspec": {
   "display_name": "Python 3 (ipykernel)",
   "language": "python",
   "name": "python3"
  },
  "language_info": {
   "codemirror_mode": {
    "name": "ipython",
    "version": 3
   },
   "file_extension": ".py",
   "mimetype": "text/x-python",
   "name": "python",
   "nbconvert_exporter": "python",
   "pygments_lexer": "ipython3",
   "version": "3.9.7"
  }
 },
 "nbformat": 4,
 "nbformat_minor": 5
}
